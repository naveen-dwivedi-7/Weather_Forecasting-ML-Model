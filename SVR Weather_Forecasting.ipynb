{
 "cells": [
  {
   "cell_type": "code",
   "execution_count": null,
   "metadata": {},
   "outputs": [],
   "source": [
    "#Import libraries\n"
   ]
  },
  {
   "cell_type": "code",
   "execution_count": 1,
   "metadata": {},
   "outputs": [],
   "source": [
    "import pandas as pd"
   ]
  },
  {
   "cell_type": "code",
   "execution_count": 2,
   "metadata": {},
   "outputs": [],
   "source": [
    "import numpy as np"
   ]
  },
  {
   "cell_type": "code",
   "execution_count": 3,
   "metadata": {},
   "outputs": [],
   "source": [
    "import matplotlib.pyplot as plt"
   ]
  },
  {
   "cell_type": "code",
   "execution_count": 4,
   "metadata": {},
   "outputs": [],
   "source": [
    "\n",
    "df = pd.read_csv('weather_data.csv')"
   ]
  },
  {
   "cell_type": "code",
   "execution_count": 5,
   "metadata": {},
   "outputs": [
    {
     "data": {
      "text/html": [
       "<div>\n",
       "<style scoped>\n",
       "    .dataframe tbody tr th:only-of-type {\n",
       "        vertical-align: middle;\n",
       "    }\n",
       "\n",
       "    .dataframe tbody tr th {\n",
       "        vertical-align: top;\n",
       "    }\n",
       "\n",
       "    .dataframe thead th {\n",
       "        text-align: right;\n",
       "    }\n",
       "</style>\n",
       "<table border=\"1\" class=\"dataframe\">\n",
       "  <thead>\n",
       "    <tr style=\"text-align: right;\">\n",
       "      <th></th>\n",
       "      <th>YEAR</th>\n",
       "      <th>JUN</th>\n",
       "      <th>JUL</th>\n",
       "      <th>AUG</th>\n",
       "      <th>SEP</th>\n",
       "    </tr>\n",
       "  </thead>\n",
       "  <tbody>\n",
       "    <tr>\n",
       "      <th>0</th>\n",
       "      <td>1901</td>\n",
       "      <td>111.0</td>\n",
       "      <td>243.2</td>\n",
       "      <td>273.6</td>\n",
       "      <td>124.6</td>\n",
       "    </tr>\n",
       "    <tr>\n",
       "      <th>1</th>\n",
       "      <td>1902</td>\n",
       "      <td>109.0</td>\n",
       "      <td>282.8</td>\n",
       "      <td>201.8</td>\n",
       "      <td>201.0</td>\n",
       "    </tr>\n",
       "    <tr>\n",
       "      <th>2</th>\n",
       "      <td>1903</td>\n",
       "      <td>117.0</td>\n",
       "      <td>292.0</td>\n",
       "      <td>271.7</td>\n",
       "      <td>200.9</td>\n",
       "    </tr>\n",
       "    <tr>\n",
       "      <th>3</th>\n",
       "      <td>1904</td>\n",
       "      <td>165.2</td>\n",
       "      <td>263.1</td>\n",
       "      <td>205.2</td>\n",
       "      <td>131.7</td>\n",
       "    </tr>\n",
       "    <tr>\n",
       "      <th>4</th>\n",
       "      <td>1905</td>\n",
       "      <td>92.3</td>\n",
       "      <td>254.9</td>\n",
       "      <td>201.4</td>\n",
       "      <td>180.0</td>\n",
       "    </tr>\n",
       "  </tbody>\n",
       "</table>\n",
       "</div>"
      ],
      "text/plain": [
       "   YEAR    JUN    JUL    AUG    SEP\n",
       "0  1901  111.0  243.2  273.6  124.6\n",
       "1  1902  109.0  282.8  201.8  201.0\n",
       "2  1903  117.0  292.0  271.7  200.9\n",
       "3  1904  165.2  263.1  205.2  131.7\n",
       "4  1905   92.3  254.9  201.4  180.0"
      ]
     },
     "execution_count": 5,
     "metadata": {},
     "output_type": "execute_result"
    }
   ],
   "source": [
    "df.head()"
   ]
  },
  {
   "cell_type": "code",
   "execution_count": 6,
   "metadata": {},
   "outputs": [],
   "source": [
    "X = df.iloc[:, 1:4].values"
   ]
  },
  {
   "cell_type": "code",
   "execution_count": 7,
   "metadata": {},
   "outputs": [
    {
     "data": {
      "text/plain": [
       "array([[111. , 243.2, 273.6],\n",
       "       [109. , 282.8, 201.8],\n",
       "       [117. , 292. , 271.7],\n",
       "       [165.2, 263.1, 205.2],\n",
       "       [ 92.3, 254.9, 201.4],\n",
       "       [177.6, 284.8, 248.2],\n",
       "       [153.1, 224.4, 310.9],\n",
       "       [126.5, 325.3, 313.2],\n",
       "       [206.6, 307.8, 234.1],\n",
       "       [212. , 246.5, 288.7],\n",
       "       [193.2, 164. , 215.4],\n",
       "       [106.7, 330.6, 262.5],\n",
       "       [214.2, 269.3, 194.6],\n",
       "       [156.5, 351.3, 242.2],\n",
       "       [157. , 231.6, 230.6],\n",
       "       [232.3, 270.6, 313.7],\n",
       "       [232.9, 286. , 297.1],\n",
       "       [212.7, 187.5, 249.6],\n",
       "       [195.2, 309.7, 290.6],\n",
       "       [163.7, 297.5, 193.4],\n",
       "       [192.3, 294.1, 277.9],\n",
       "       [205.3, 318.3, 220.1],\n",
       "       [101.9, 340. , 276.7],\n",
       "       [134.6, 331.1, 258.7],\n",
       "       [204.2, 305.7, 237.8],\n",
       "       [ 97.5, 320.1, 336.1],\n",
       "       [176.7, 349.3, 259.3],\n",
       "       [178.6, 304.8, 233.4],\n",
       "       [194.4, 297.4, 244.3],\n",
       "       [180.2, 291.3, 213.3],\n",
       "       [132.6, 321.1, 308.2],\n",
       "       [141.6, 332.7, 239.3],\n",
       "       [215.5, 283.9, 316.2],\n",
       "       [215.7, 287.4, 298.9],\n",
       "       [158.8, 317.4, 248.7],\n",
       "       [246.6, 293.1, 240. ],\n",
       "       [163.4, 338.1, 209.4],\n",
       "       [274.6, 304.8, 254.2],\n",
       "       [173.6, 277.7, 235.9],\n",
       "       [175. , 310.3, 283.4],\n",
       "       [170.9, 241.2, 232. ],\n",
       "       [190.7, 343.7, 293.3],\n",
       "       [167.6, 313.8, 237.1],\n",
       "       [155.6, 355.4, 291.5],\n",
       "       [157.1, 333.1, 246.6],\n",
       "       [213.6, 317.9, 296.7],\n",
       "       [130.4, 311.4, 290.2],\n",
       "       [162.1, 344.9, 282.4],\n",
       "       [163.3, 318. , 242.8],\n",
       "       [133.9, 332.9, 233.5],\n",
       "       [160.5, 250. , 223.2],\n",
       "       [163.9, 285.6, 257.1],\n",
       "       [162. , 322.2, 299.2],\n",
       "       [141.4, 295.3, 230. ],\n",
       "       [175.4, 234.1, 321.8],\n",
       "       [209.8, 363.8, 261.4],\n",
       "       [154.5, 306.9, 273.8],\n",
       "       [122.8, 317.8, 321.6],\n",
       "       [167.2, 374.4, 264.9],\n",
       "       [157.6, 317. , 252.9],\n",
       "       [191.9, 337.5, 288. ],\n",
       "       [135.2, 281. , 276.1],\n",
       "       [168.2, 258.6, 319.9],\n",
       "       [175.6, 344.7, 273.5],\n",
       "       [115.7, 270.6, 192.5],\n",
       "       [177.8, 251.9, 217.1],\n",
       "       [144.3, 305.7, 266.8],\n",
       "       [148.3, 316.1, 216.7],\n",
       "       [129.9, 325.9, 283.3],\n",
       "       [216.9, 254.2, 321.2],\n",
       "       [229.5, 271.9, 273.1],\n",
       "       [122.5, 207. , 222.6],\n",
       "       [150.8, 279.4, 314.8],\n",
       "       [127.8, 286.3, 233.3],\n",
       "       [175.3, 308.8, 289.4],\n",
       "       [158.5, 295.5, 296.5],\n",
       "       [186.2, 323.7, 247.8],\n",
       "       [207.5, 287.1, 283.1],\n",
       "       [140.6, 241. , 211.4],\n",
       "       [231.2, 295.8, 266.1],\n",
       "       [151.4, 308.3, 238.6],\n",
       "       [136.7, 231.5, 277.2],\n",
       "       [150.5, 282.3, 304.5],\n",
       "       [191. , 286.6, 263.8],\n",
       "       [155.5, 291.2, 234.3],\n",
       "       [185. , 261.5, 229.4],\n",
       "       [134.9, 223.3, 247.3],\n",
       "       [157.8, 376.3, 301.1],\n",
       "       [186.8, 302.6, 238.5],\n",
       "       [191.3, 288. , 292.6],\n",
       "       [185.3, 280.6, 262.3],\n",
       "       [137.1, 267.2, 286.2],\n",
       "       [170.6, 306.1, 203.2],\n",
       "       [204.5, 352.4, 287.4],\n",
       "       [139.3, 323.8, 269.8],\n",
       "       [186.5, 266. , 299.5],\n",
       "       [172.6, 286.7, 262.5],\n",
       "       [163.6, 286.3, 253.5],\n",
       "       [173.5, 266. , 221.9],\n",
       "       [185.2, 268.5, 225.8],\n",
       "       [214.5, 282.2, 206.3],\n",
       "       [171.1, 140.3, 245.2],\n",
       "       [165.1, 306.1, 248.4],\n",
       "       [168. , 241.3, 256.6],\n",
       "       [146.3, 333.7, 194. ],\n",
       "       [151.2, 294.5, 299.7],\n",
       "       [198.9, 295.8, 260.6],\n",
       "       [212.1, 256.5, 266. ],\n",
       "       [ 87.9, 288.2, 194.8],\n",
       "       [140.8, 298.4, 273.1],\n",
       "       [183.6, 249.9, 289.2],\n",
       "       [122.4, 257.9, 262. ],\n",
       "       [221.1, 311.5, 258. ],\n",
       "       [ 92.8, 266.7, 234.6],\n",
       "       [188.9, 240.7, 204.1],\n",
       "       [147. , 308.4, 239.4],\n",
       "       [171.9, 290.5, 228.3],\n",
       "       [155.7, 273.8, 240.5],\n",
       "       [112.9, 296.7, 299.3]])"
      ]
     },
     "execution_count": 7,
     "metadata": {},
     "output_type": "execute_result"
    }
   ],
   "source": [
    "X"
   ]
  },
  {
   "cell_type": "code",
   "execution_count": 8,
   "metadata": {},
   "outputs": [],
   "source": [
    "y = df.iloc[:, -1].values"
   ]
  },
  {
   "cell_type": "code",
   "execution_count": 9,
   "metadata": {},
   "outputs": [
    {
     "data": {
      "text/plain": [
       "array([124.6, 201. , 200.9, 131.7, 180. , 183.1, 196.6, 152.9, 162.1,\n",
       "       185.3, 183.4, 119.3, 109.6, 194.2, 174.7, 200. , 282.5, 113.3,\n",
       "       163. , 123.1, 205.1, 204.4, 175.4, 239.2, 139.9, 211.3, 172.4,\n",
       "       145.9, 125.3, 174.9, 191. , 182.5, 212.7, 166.6, 186.8, 195. ,\n",
       "       175.4, 170.8, 157.7, 125.8, 156.1, 182. , 213. , 156.9, 214.2,\n",
       "       144.7, 240.5, 178.3, 226.5, 204.6, 124. , 119.1, 178. , 246.9,\n",
       "       219.5, 165.7, 132.2, 230.7, 237.2, 181.8, 236.2, 210.8, 166.8,\n",
       "       199.5, 131. , 147.9, 172.6, 128.9, 175.9, 216.1, 150.6, 129.9,\n",
       "       185.9, 144.6, 227. , 143.5, 148.8, 163.4, 137.6, 146.1, 186.8,\n",
       "       126.2, 251.9, 145.2, 152.5, 125.5, 152. , 218.3, 164.3, 197.6,\n",
       "       136.6, 168. , 210.9, 150. , 181. , 148.8, 152.4, 207.6, 188.8,\n",
       "       135.5, 110.3, 139.1, 181.6, 124. , 201.2, 181.5, 215.7, 168.3,\n",
       "       143.3, 198.4, 192.8, 199.4, 155.1, 190.1, 131.7, 168.8, 153. ,\n",
       "       132.3, 260.4])"
      ]
     },
     "execution_count": 9,
     "metadata": {},
     "output_type": "execute_result"
    }
   ],
   "source": [
    "y"
   ]
  },
  {
   "cell_type": "code",
   "execution_count": 10,
   "metadata": {},
   "outputs": [
    {
     "data": {
      "text/plain": [
       "array([[124.6],\n",
       "       [201. ],\n",
       "       [200.9],\n",
       "       [131.7],\n",
       "       [180. ],\n",
       "       [183.1],\n",
       "       [196.6],\n",
       "       [152.9],\n",
       "       [162.1],\n",
       "       [185.3],\n",
       "       [183.4],\n",
       "       [119.3],\n",
       "       [109.6],\n",
       "       [194.2],\n",
       "       [174.7],\n",
       "       [200. ],\n",
       "       [282.5],\n",
       "       [113.3],\n",
       "       [163. ],\n",
       "       [123.1],\n",
       "       [205.1],\n",
       "       [204.4],\n",
       "       [175.4],\n",
       "       [239.2],\n",
       "       [139.9],\n",
       "       [211.3],\n",
       "       [172.4],\n",
       "       [145.9],\n",
       "       [125.3],\n",
       "       [174.9],\n",
       "       [191. ],\n",
       "       [182.5],\n",
       "       [212.7],\n",
       "       [166.6],\n",
       "       [186.8],\n",
       "       [195. ],\n",
       "       [175.4],\n",
       "       [170.8],\n",
       "       [157.7],\n",
       "       [125.8],\n",
       "       [156.1],\n",
       "       [182. ],\n",
       "       [213. ],\n",
       "       [156.9],\n",
       "       [214.2],\n",
       "       [144.7],\n",
       "       [240.5],\n",
       "       [178.3],\n",
       "       [226.5],\n",
       "       [204.6],\n",
       "       [124. ],\n",
       "       [119.1],\n",
       "       [178. ],\n",
       "       [246.9],\n",
       "       [219.5],\n",
       "       [165.7],\n",
       "       [132.2],\n",
       "       [230.7],\n",
       "       [237.2],\n",
       "       [181.8],\n",
       "       [236.2],\n",
       "       [210.8],\n",
       "       [166.8],\n",
       "       [199.5],\n",
       "       [131. ],\n",
       "       [147.9],\n",
       "       [172.6],\n",
       "       [128.9],\n",
       "       [175.9],\n",
       "       [216.1],\n",
       "       [150.6],\n",
       "       [129.9],\n",
       "       [185.9],\n",
       "       [144.6],\n",
       "       [227. ],\n",
       "       [143.5],\n",
       "       [148.8],\n",
       "       [163.4],\n",
       "       [137.6],\n",
       "       [146.1],\n",
       "       [186.8],\n",
       "       [126.2],\n",
       "       [251.9],\n",
       "       [145.2],\n",
       "       [152.5],\n",
       "       [125.5],\n",
       "       [152. ],\n",
       "       [218.3],\n",
       "       [164.3],\n",
       "       [197.6],\n",
       "       [136.6],\n",
       "       [168. ],\n",
       "       [210.9],\n",
       "       [150. ],\n",
       "       [181. ],\n",
       "       [148.8],\n",
       "       [152.4],\n",
       "       [207.6],\n",
       "       [188.8],\n",
       "       [135.5],\n",
       "       [110.3],\n",
       "       [139.1],\n",
       "       [181.6],\n",
       "       [124. ],\n",
       "       [201.2],\n",
       "       [181.5],\n",
       "       [215.7],\n",
       "       [168.3],\n",
       "       [143.3],\n",
       "       [198.4],\n",
       "       [192.8],\n",
       "       [199.4],\n",
       "       [155.1],\n",
       "       [190.1],\n",
       "       [131.7],\n",
       "       [168.8],\n",
       "       [153. ],\n",
       "       [132.3],\n",
       "       [260.4]])"
      ]
     },
     "execution_count": 10,
     "metadata": {},
     "output_type": "execute_result"
    }
   ],
   "source": [
    "y.reshape(-1, 1) "
   ]
  },
  {
   "cell_type": "code",
   "execution_count": null,
   "metadata": {},
   "outputs": [],
   "source": []
  },
  {
   "cell_type": "code",
   "execution_count": 11,
   "metadata": {},
   "outputs": [],
   "source": [
    "from sklearn.pipeline import make_pipeline\n"
   ]
  },
  {
   "cell_type": "code",
   "execution_count": 12,
   "metadata": {},
   "outputs": [],
   "source": [
    "from sklearn.preprocessing import StandardScaler\n",
    "sc_X = StandardScaler()\n",
    "sc_y = StandardScaler()"
   ]
  },
  {
   "cell_type": "code",
   "execution_count": 13,
   "metadata": {},
   "outputs": [],
   "source": [
    "X = sc_X.fit_transform(X)"
   ]
  },
  {
   "cell_type": "code",
   "execution_count": 14,
   "metadata": {},
   "outputs": [],
   "source": [
    "y = sc_y.fit_transform(y.reshape(-1,1))"
   ]
  },
  {
   "cell_type": "code",
   "execution_count": 24,
   "metadata": {},
   "outputs": [],
   "source": [
    "from sklearn.model_selection import train_test_split"
   ]
  },
  {
   "cell_type": "code",
   "execution_count": 32,
   "metadata": {},
   "outputs": [],
   "source": [
    "X_train, X_test, y_train, y_test = train_test_split(X, y, test_size = 0.22)"
   ]
  },
  {
   "cell_type": "code",
   "execution_count": 33,
   "metadata": {},
   "outputs": [],
   "source": [
    "from sklearn.svm import SVR"
   ]
  },
  {
   "cell_type": "code",
   "execution_count": 34,
   "metadata": {},
   "outputs": [],
   "source": [
    "regressor = SVR(kernel = 'rbf')"
   ]
  },
  {
   "cell_type": "code",
   "execution_count": 35,
   "metadata": {},
   "outputs": [
    {
     "name": "stderr",
     "output_type": "stream",
     "text": [
      "C:\\Users\\naveen\\anaconda3\\lib\\site-packages\\sklearn\\utils\\validation.py:72: DataConversionWarning: A column-vector y was passed when a 1d array was expected. Please change the shape of y to (n_samples, ), for example using ravel().\n",
      "  return f(**kwargs)\n"
     ]
    },
    {
     "data": {
      "text/plain": [
       "SVR()"
      ]
     },
     "execution_count": 35,
     "metadata": {},
     "output_type": "execute_result"
    }
   ],
   "source": [
    "regressor.fit(X,y)"
   ]
  },
  {
   "cell_type": "code",
   "execution_count": 36,
   "metadata": {},
   "outputs": [],
   "source": [
    "y_pred = regressor.predict(X_test)"
   ]
  },
  {
   "cell_type": "code",
   "execution_count": 37,
   "metadata": {},
   "outputs": [],
   "source": [
    "y_pred = sc_y.inverse_transform(y_pred)"
   ]
  },
  {
   "cell_type": "code",
   "execution_count": 38,
   "metadata": {},
   "outputs": [],
   "source": [
    "df = pd.DataFrame({'Real Values':sc_y.inverse_transform(y_test.reshape(-1)), 'Predicted Values':y_pred})\n"
   ]
  },
  {
   "cell_type": "code",
   "execution_count": 39,
   "metadata": {},
   "outputs": [
    {
     "data": {
      "text/html": [
       "<div>\n",
       "<style scoped>\n",
       "    .dataframe tbody tr th:only-of-type {\n",
       "        vertical-align: middle;\n",
       "    }\n",
       "\n",
       "    .dataframe tbody tr th {\n",
       "        vertical-align: top;\n",
       "    }\n",
       "\n",
       "    .dataframe thead th {\n",
       "        text-align: right;\n",
       "    }\n",
       "</style>\n",
       "<table border=\"1\" class=\"dataframe\">\n",
       "  <thead>\n",
       "    <tr style=\"text-align: right;\">\n",
       "      <th></th>\n",
       "      <th>Real Values</th>\n",
       "      <th>Predicted Values</th>\n",
       "    </tr>\n",
       "  </thead>\n",
       "  <tbody>\n",
       "    <tr>\n",
       "      <th>0</th>\n",
       "      <td>211.3</td>\n",
       "      <td>207.699845</td>\n",
       "    </tr>\n",
       "    <tr>\n",
       "      <th>1</th>\n",
       "      <td>178.3</td>\n",
       "      <td>181.899511</td>\n",
       "    </tr>\n",
       "    <tr>\n",
       "      <th>2</th>\n",
       "      <td>197.6</td>\n",
       "      <td>170.985630</td>\n",
       "    </tr>\n",
       "    <tr>\n",
       "      <th>3</th>\n",
       "      <td>162.1</td>\n",
       "      <td>156.985827</td>\n",
       "    </tr>\n",
       "    <tr>\n",
       "      <th>4</th>\n",
       "      <td>226.5</td>\n",
       "      <td>182.986270</td>\n",
       "    </tr>\n",
       "    <tr>\n",
       "      <th>5</th>\n",
       "      <td>129.9</td>\n",
       "      <td>146.397402</td>\n",
       "    </tr>\n",
       "    <tr>\n",
       "      <th>6</th>\n",
       "      <td>182.5</td>\n",
       "      <td>193.498210</td>\n",
       "    </tr>\n",
       "    <tr>\n",
       "      <th>7</th>\n",
       "      <td>192.8</td>\n",
       "      <td>178.930414</td>\n",
       "    </tr>\n",
       "    <tr>\n",
       "      <th>8</th>\n",
       "      <td>146.1</td>\n",
       "      <td>155.898099</td>\n",
       "    </tr>\n",
       "    <tr>\n",
       "      <th>9</th>\n",
       "      <td>181.6</td>\n",
       "      <td>173.070729</td>\n",
       "    </tr>\n",
       "    <tr>\n",
       "      <th>10</th>\n",
       "      <td>156.1</td>\n",
       "      <td>141.588855</td>\n",
       "    </tr>\n",
       "    <tr>\n",
       "      <th>11</th>\n",
       "      <td>204.4</td>\n",
       "      <td>165.363206</td>\n",
       "    </tr>\n",
       "    <tr>\n",
       "      <th>12</th>\n",
       "      <td>145.2</td>\n",
       "      <td>153.360604</td>\n",
       "    </tr>\n",
       "    <tr>\n",
       "      <th>13</th>\n",
       "      <td>128.9</td>\n",
       "      <td>182.451781</td>\n",
       "    </tr>\n",
       "    <tr>\n",
       "      <th>14</th>\n",
       "      <td>166.8</td>\n",
       "      <td>197.350134</td>\n",
       "    </tr>\n",
       "    <tr>\n",
       "      <th>15</th>\n",
       "      <td>198.4</td>\n",
       "      <td>181.619280</td>\n",
       "    </tr>\n",
       "    <tr>\n",
       "      <th>16</th>\n",
       "      <td>170.8</td>\n",
       "      <td>170.329844</td>\n",
       "    </tr>\n",
       "    <tr>\n",
       "      <th>17</th>\n",
       "      <td>148.8</td>\n",
       "      <td>184.429348</td>\n",
       "    </tr>\n",
       "    <tr>\n",
       "      <th>18</th>\n",
       "      <td>180.0</td>\n",
       "      <td>169.286905</td>\n",
       "    </tr>\n",
       "    <tr>\n",
       "      <th>19</th>\n",
       "      <td>137.6</td>\n",
       "      <td>141.210962</td>\n",
       "    </tr>\n",
       "    <tr>\n",
       "      <th>20</th>\n",
       "      <td>126.2</td>\n",
       "      <td>163.627703</td>\n",
       "    </tr>\n",
       "    <tr>\n",
       "      <th>21</th>\n",
       "      <td>199.5</td>\n",
       "      <td>180.820810</td>\n",
       "    </tr>\n",
       "    <tr>\n",
       "      <th>22</th>\n",
       "      <td>132.3</td>\n",
       "      <td>155.238791</td>\n",
       "    </tr>\n",
       "    <tr>\n",
       "      <th>23</th>\n",
       "      <td>182.0</td>\n",
       "      <td>173.912543</td>\n",
       "    </tr>\n",
       "    <tr>\n",
       "      <th>24</th>\n",
       "      <td>152.0</td>\n",
       "      <td>148.374324</td>\n",
       "    </tr>\n",
       "    <tr>\n",
       "      <th>25</th>\n",
       "      <td>168.0</td>\n",
       "      <td>180.930717</td>\n",
       "    </tr>\n",
       "    <tr>\n",
       "      <th>26</th>\n",
       "      <td>119.3</td>\n",
       "      <td>183.312989</td>\n",
       "    </tr>\n",
       "  </tbody>\n",
       "</table>\n",
       "</div>"
      ],
      "text/plain": [
       "    Real Values  Predicted Values\n",
       "0         211.3        207.699845\n",
       "1         178.3        181.899511\n",
       "2         197.6        170.985630\n",
       "3         162.1        156.985827\n",
       "4         226.5        182.986270\n",
       "5         129.9        146.397402\n",
       "6         182.5        193.498210\n",
       "7         192.8        178.930414\n",
       "8         146.1        155.898099\n",
       "9         181.6        173.070729\n",
       "10        156.1        141.588855\n",
       "11        204.4        165.363206\n",
       "12        145.2        153.360604\n",
       "13        128.9        182.451781\n",
       "14        166.8        197.350134\n",
       "15        198.4        181.619280\n",
       "16        170.8        170.329844\n",
       "17        148.8        184.429348\n",
       "18        180.0        169.286905\n",
       "19        137.6        141.210962\n",
       "20        126.2        163.627703\n",
       "21        199.5        180.820810\n",
       "22        132.3        155.238791\n",
       "23        182.0        173.912543\n",
       "24        152.0        148.374324\n",
       "25        168.0        180.930717\n",
       "26        119.3        183.312989"
      ]
     },
     "execution_count": 39,
     "metadata": {},
     "output_type": "execute_result"
    }
   ],
   "source": [
    "df"
   ]
  },
  {
   "cell_type": "code",
   "execution_count": null,
   "metadata": {},
   "outputs": [],
   "source": []
  },
  {
   "cell_type": "code",
   "execution_count": null,
   "metadata": {},
   "outputs": [],
   "source": []
  },
  {
   "cell_type": "code",
   "execution_count": null,
   "metadata": {},
   "outputs": [],
   "source": []
  },
  {
   "cell_type": "code",
   "execution_count": null,
   "metadata": {},
   "outputs": [],
   "source": [
    "\n"
   ]
  },
  {
   "cell_type": "code",
   "execution_count": null,
   "metadata": {},
   "outputs": [],
   "source": []
  },
  {
   "cell_type": "code",
   "execution_count": null,
   "metadata": {},
   "outputs": [],
   "source": []
  },
  {
   "cell_type": "code",
   "execution_count": null,
   "metadata": {},
   "outputs": [],
   "source": []
  },
  {
   "cell_type": "code",
   "execution_count": null,
   "metadata": {},
   "outputs": [],
   "source": []
  }
 ],
 "metadata": {
  "kernelspec": {
   "display_name": "Python 3",
   "language": "python",
   "name": "python3"
  },
  "language_info": {
   "codemirror_mode": {
    "name": "ipython",
    "version": 3
   },
   "file_extension": ".py",
   "mimetype": "text/x-python",
   "name": "python",
   "nbconvert_exporter": "python",
   "pygments_lexer": "ipython3",
   "version": "3.8.5"
  }
 },
 "nbformat": 4,
 "nbformat_minor": 4
}
